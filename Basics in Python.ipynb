{
 "cells": [
  {
   "cell_type": "markdown",
   "metadata": {},
   "source": [
    "## Basics in Python 1\n",
    "\n",
    "This python tutorial is a part of the EMBL Bioimage Analysis Tutorial by Toby Hodges.\n",
    "If you are interested in taking his full introduction to python course, follow this link: https://git.embl.de/grp-bio-it-workshops/image-analysis-with-python/-/blob/master/session-1/Lecture_1_student.ipynb\n",
    "\n",
    "#### 此筆記本的建議使用方式/ Advice on how to go through this notebook\n",
    "\n",
    "我建議你打開另一個 Jupyter Notebook, 並將這裡的內容一行一行的寫到該 Notebook.執行時試著了解你所使用的函數的功能以及它運作的原理\n",
    "\n",
    "#### Aim 1: Learn most basic syntax\n",
    "\n",
    "- use of variables\n",
    "- input, output\n",
    "- conditional statements\n",
    "- lists\n"
   ]
  },
  {
   "cell_type": "code",
   "execution_count": 1,
   "metadata": {},
   "outputs": [
    {
     "name": "stdout",
     "output_type": "stream",
     "text": [
      "Python is fun\n"
     ]
    }
   ],
   "source": [
    "print(\"Python is fun\")"
   ]
  },
  {
   "cell_type": "code",
   "execution_count": 2,
   "metadata": {},
   "outputs": [],
   "source": [
    "a = 4\n",
    "b = \"5\"\n",
    "c = a + 7"
   ]
  },
  {
   "cell_type": "code",
   "execution_count": 3,
   "metadata": {},
   "outputs": [
    {
     "name": "stdout",
     "output_type": "stream",
     "text": [
      "11\n"
     ]
    }
   ],
   "source": [
    "print(c)"
   ]
  },
  {
   "cell_type": "markdown",
   "metadata": {},
   "source": [
    "Expect an error when running the following code. a is an integer and b is a string so they can not be added together."
   ]
  },
  {
   "cell_type": "code",
   "execution_count": 4,
   "metadata": {},
   "outputs": [
    {
     "ename": "TypeError",
     "evalue": "unsupported operand type(s) for +: 'int' and 'str'",
     "output_type": "error",
     "traceback": [
      "\u001b[1;31m---------------------------------------------------------------------------\u001b[0m",
      "\u001b[1;31mTypeError\u001b[0m                                 Traceback (most recent call last)",
      "Cell \u001b[1;32mIn [4], line 1\u001b[0m\n\u001b[1;32m----> 1\u001b[0m d\u001b[38;5;241m=\u001b[39m\u001b[43ma\u001b[49m\u001b[38;5;241;43m+\u001b[39;49m\u001b[43mb\u001b[49m\n",
      "\u001b[1;31mTypeError\u001b[0m: unsupported operand type(s) for +: 'int' and 'str'"
     ]
    }
   ],
   "source": [
    "d=a+b"
   ]
  },
  {
   "cell_type": "code",
   "execution_count": 5,
   "metadata": {},
   "outputs": [
    {
     "name": "stdout",
     "output_type": "stream",
     "text": [
      "9\n"
     ]
    }
   ],
   "source": [
    "d=a+int(b)\n",
    "print(d)"
   ]
  },
  {
   "cell_type": "code",
   "execution_count": 6,
   "metadata": {},
   "outputs": [
    {
     "name": "stdout",
     "output_type": "stream",
     "text": [
      "45\n"
     ]
    }
   ],
   "source": [
    "d=str(a)+b\n",
    "print(d)"
   ]
  },
  {
   "cell_type": "code",
   "execution_count": 7,
   "metadata": {},
   "outputs": [
    {
     "name": "stdout",
     "output_type": "stream",
     "text": [
      "1\n",
      "2\n",
      "3\n",
      "4\n",
      "5\n",
      "6\n",
      "7\n",
      "8\n",
      "9\n"
     ]
    }
   ],
   "source": [
    "for e in range (1,10):\n",
    "    print(e)"
   ]
  },
  {
   "cell_type": "code",
   "execution_count": 8,
   "metadata": {},
   "outputs": [],
   "source": [
    "the_earth_is_flat=True"
   ]
  },
  {
   "cell_type": "code",
   "execution_count": 9,
   "metadata": {},
   "outputs": [
    {
     "name": "stdout",
     "output_type": "stream",
     "text": [
      "Take care not to fall off\n"
     ]
    }
   ],
   "source": [
    "if the_earth_is_flat:\n",
    "    print(\"Take care not to fall off\")"
   ]
  },
  {
   "cell_type": "code",
   "execution_count": 10,
   "metadata": {},
   "outputs": [
    {
     "name": "stdout",
     "output_type": "stream",
     "text": [
      "183.33333333333334\n"
     ]
    }
   ],
   "source": [
    "# just testing division\n",
    "print(5500/30)\n"
   ]
  },
  {
   "cell_type": "code",
   "execution_count": 11,
   "metadata": {},
   "outputs": [
    {
     "name": "stdout",
     "output_type": "stream",
     "text": [
      "[1, 2]\n",
      "[1, 2, 3]\n"
     ]
    }
   ],
   "source": [
    "f=[]\n",
    "f.append(1)\n",
    "f.append(2)\n",
    "print(f)\n",
    "\n",
    "e=[1,2,3]\n",
    "print(e)\n"
   ]
  },
  {
   "cell_type": "code",
   "execution_count": 12,
   "metadata": {},
   "outputs": [
    {
     "name": "stdout",
     "output_type": "stream",
     "text": [
      "What is your name?Kou\n",
      "Nice to meet you  Kou\n",
      "How many years have you been at EMBL?1\n",
      "Welcome to EMBL\n"
     ]
    }
   ],
   "source": [
    "## Marvelous chatbot\n",
    "\n",
    "name = str(input(\"What is your name?\"))\n",
    "print(\"Nice to meet you \", name)\n",
    "\n",
    "time = int(input(\"How many years have you been at EMBL?\"))\n",
    "\n",
    "if time<2:\n",
    "    print('Welcome to EMBL')\n",
    "elif time<10:\n",
    "    print('That is a long time! You should have learnt Python sooner.')\n",
    "else:\n",
    "    print('Congrats for conquering the 9-year rule!')"
   ]
  },
  {
   "cell_type": "markdown",
   "metadata": {},
   "source": [
    "## Excercise 1:\n",
    "\n",
    "from:\n",
    "https://www.practicepython.org/solution/2014/02/26/03-list-less-than-ten-solutions.html\n",
    "    \n",
    "Take a list, say for example this one:\n",
    "\n",
    "\ta = [1, 1, 2, 3, 5, 8, 13, 21, 34, 55, 89]\n",
    "\n",
    "and write a program that prints out all the elements of the list that are less than 5.\n",
    "\n",
    "Extras:\n",
    "\n",
    "Instead of printing the elements one by one, make a new list that has all the elements less than 5 from this list in it and print out this new list.\n",
    "\n",
    "Ask the user for a number and return a list that contains only elements from the original list a that are smaller than that number given by the user.\n",
    "\n"
   ]
  },
  {
   "cell_type": "markdown",
   "metadata": {},
   "source": [
    "### Solution 1:"
   ]
  },
  {
   "cell_type": "code",
   "execution_count": null,
   "metadata": {},
   "outputs": [],
   "source": []
  },
  {
   "cell_type": "markdown",
   "metadata": {},
   "source": [
    "#### Further reading: \n",
    "\n",
    "Please find a lot of excercises in:\n",
    "    \n",
    "https://wiki.python.org/moin/BeginnersGuide"
   ]
  },
  {
   "cell_type": "markdown",
   "metadata": {},
   "source": [
    "## Basics in Python 2\n",
    "\n",
    "#### Aim 2: Numpy\n",
    "\n",
    "- What is an array?\n",
    "- Define and use arrays.\n",
    "\n",
    "\n"
   ]
  },
  {
   "cell_type": "markdown",
   "metadata": {},
   "source": [
    "#### Create arrays using NumPy\n",
    "\n",
    "The first thing to do is to import the library:\n"
   ]
  },
  {
   "cell_type": "code",
   "execution_count": 13,
   "metadata": {},
   "outputs": [],
   "source": [
    "import numpy as np"
   ]
  },
  {
   "cell_type": "markdown",
   "metadata": {},
   "source": [
    "In NumPy, arrays are lists, except that all the entries have to be of the same data type (int8, int32, float, boolean, etc).\n",
    "\n",
    "Creating NumPy arrays is done using the same syntax as for a regular Python list andn in addition, using the NumPy function array as illustrated below. This function converts a list into a one-dimensional array, a list of lists in to a two-dimensional array, a list of list that is a list of lists into a three-dimensional array, etc. The class of such objects is numpy.ndarray:\n"
   ]
  },
  {
   "cell_type": "code",
   "execution_count": 14,
   "metadata": {},
   "outputs": [
    {
     "name": "stdout",
     "output_type": "stream",
     "text": [
      "[1 2 3 4 5 6 7 8 9]\n"
     ]
    }
   ],
   "source": [
    "# defining arrays\n",
    "row = np.array([1, 2, 3, 4, 5, 6, 7, 8, 9]) \n",
    "\n",
    "# a row vector, also called a 1x9 array\n",
    "\n",
    "print(row)"
   ]
  },
  {
   "cell_type": "code",
   "execution_count": 15,
   "metadata": {},
   "outputs": [
    {
     "name": "stdout",
     "output_type": "stream",
     "text": [
      "(9,)\n",
      "<class 'numpy.ndarray'>\n",
      "int32\n"
     ]
    }
   ],
   "source": [
    "print(row.shape)\n",
    "print(type(row))\n",
    "print(row.dtype)"
   ]
  },
  {
   "cell_type": "code",
   "execution_count": 16,
   "metadata": {},
   "outputs": [
    {
     "name": "stdout",
     "output_type": "stream",
     "text": [
      "row:\n",
      " [1 2 3 4 5 6 7 8 9] \n",
      " has 1 dimension(s) ; is an object of class <class 'numpy.ndarray'> ; with data type int32 \n",
      "\n"
     ]
    }
   ],
   "source": [
    "# display the results\n",
    "print ('row:\\n', row, '\\n has', len(row.shape), 'dimension(s) ;', 'is an object of class', type(row), '; with data type', row.dtype, '\\n')\n"
   ]
  },
  {
   "cell_type": "code",
   "execution_count": 17,
   "metadata": {},
   "outputs": [
    {
     "name": "stdout",
     "output_type": "stream",
     "text": [
      "col:\n",
      " [[ 5]\n",
      " [ 6]\n",
      " [ 3]\n",
      " [-1]\n",
      " [ 6]\n",
      " [ 9]\n",
      " [ 2]\n",
      " [ 5]\n",
      " [ 5]] \n",
      "has 2 dimension(s) ; is an object of class <class 'numpy.ndarray'> ; with data type int32 \n",
      "\n"
     ]
    }
   ],
   "source": [
    "# defining arrays\n",
    "col = np.array([[5],  # a column vector, also called a 9x1 array\n",
    "                [6], \n",
    "                [3], \n",
    "                [-1], \n",
    "                [6], \n",
    "                [9], \n",
    "                [2],\n",
    "                [5],\n",
    "                [5]])\n",
    "\n",
    "# display the results\n",
    "print ('col:\\n', col, '\\nhas', len(col.shape), 'dimension(s) ;', 'is an object of class', type(col), '; with data type', col.dtype, '\\n')"
   ]
  },
  {
   "cell_type": "code",
   "execution_count": 18,
   "metadata": {},
   "outputs": [
    {
     "name": "stdout",
     "output_type": "stream",
     "text": [
      "mat:\n",
      " [[ 1  2  3  4 -1 -2 -3 -4]\n",
      " [ 5  6  7  8 -5 -6 -7 -8]] \n",
      "has 2 dimension(s) ; is an object of class <class 'numpy.ndarray'> ; with data type int32 \n",
      "\n"
     ]
    }
   ],
   "source": [
    "mat = np.array([[1, 2, 3, 4, -1, -2, -3, -4], [5, 6, 7, 8, -5, -6, -7, -8]]) # a 2x8 matrix or array\n",
    "\n",
    "# display the results\n",
    "print ('mat:\\n', mat, '\\nhas', len(mat.shape), 'dimension(s) ;', 'is an object of class', type(mat), '; with data type', mat.dtype, '\\n')"
   ]
  },
  {
   "cell_type": "code",
   "execution_count": 19,
   "metadata": {},
   "outputs": [
    {
     "name": "stdout",
     "output_type": "stream",
     "text": [
      "[[44 77 44 56 30  2 28  0 45 76]\n",
      " [13 88 64 77 67 28 25 44 80 75]\n",
      " [ 1 25 26  9 79 53 85 12 17 26]\n",
      " [81 48 79 24 21 36 13 32 32 62]\n",
      " [11 74 42 16 53 66 61 76 87 78]\n",
      " [11 71 99 66  5 23 35 80 26 27]\n",
      " [ 7 68 74 43 97 72 48 20 33 65]\n",
      " [99 15 51 98 97 86 34 15 47 90]\n",
      " [ 9 51 17  9 90 25 55 39  8 25]\n",
      " [16 60  6 22 76 33 81 56 30 55]]\n"
     ]
    }
   ],
   "source": [
    "A = np.random.randint(0,high=100,size=(10,10),dtype=np.uint8)\n",
    "print(A)"
   ]
  },
  {
   "cell_type": "code",
   "execution_count": 20,
   "metadata": {},
   "outputs": [
    {
     "name": "stdout",
     "output_type": "stream",
     "text": [
      "[[0 0 0 0 0 0 0 0 0 0]\n",
      " [0 0 0 0 0 0 0 0 0 0]\n",
      " [0 0 0 0 0 0 0 0 0 0]\n",
      " [0 0 0 0 0 0 0 0 0 0]\n",
      " [0 0 0 0 0 0 0 0 0 0]\n",
      " [0 0 0 0 0 0 0 0 0 0]\n",
      " [0 0 0 0 0 0 0 0 0 0]\n",
      " [0 0 0 0 0 0 0 0 0 0]\n",
      " [0 0 0 0 0 0 0 0 0 0]\n",
      " [0 0 0 0 0 0 0 0 0 0]]\n"
     ]
    }
   ],
   "source": [
    "B=np.zeros(A.shape,dtype=np.uint8)\n",
    "print(B)"
   ]
  },
  {
   "cell_type": "code",
   "execution_count": 21,
   "metadata": {},
   "outputs": [
    {
     "name": "stdout",
     "output_type": "stream",
     "text": [
      "[[ 0  0  0  2  0  0  0  0  0  0]\n",
      " [ 0  0  0 28  0  0  0  0  0  0]\n",
      " [ 0  0  0 53  0  0  0  0  0  0]\n",
      " [ 0  0  0 36  0  0  0  0  0  0]\n",
      " [ 0  0  0 66  0  0  0  0  0  0]\n",
      " [ 0  0  0 23  0  0  0  0  0  0]\n",
      " [ 0  0  0 72  0  0  0  0  0  0]\n",
      " [ 0  0  0 86  0  0  0  0  0  0]\n",
      " [ 0  0  0 25  0  0  0  0  0  0]\n",
      " [ 0  0  0 33  0  0  0  0  0  0]]\n"
     ]
    }
   ],
   "source": [
    "B[:,3]=A[:,5]\n",
    "print(B)"
   ]
  },
  {
   "cell_type": "code",
   "execution_count": 22,
   "metadata": {},
   "outputs": [],
   "source": [
    "B[2:6,5:9]=A[2:6,5:9]"
   ]
  },
  {
   "cell_type": "code",
   "execution_count": 23,
   "metadata": {},
   "outputs": [
    {
     "name": "stdout",
     "output_type": "stream",
     "text": [
      "[[  1  55 116  12  61  86  68  39  34  17]\n",
      " [ 56  52  72  14  84  79  91  15  41  80]\n",
      " [111  37 106  40  75  61 108  45  63  64]\n",
      " [ 58 100  60  26  22  42  49  19  53  45]\n",
      " [ 83  27  86   8  97  37  53  78  63   0]\n",
      " [ 22  67  90  64  85  22  38 118  35 108]\n",
      " [102  50  24   1  69  97  65  49  92  69]\n",
      " [104  54  11  74  21 117  20  32  10  52]\n",
      " [110  61  66  37  99   1  27 111  44  95]\n",
      " [ 66   1 110  83  78  66  14   0  29  95]]\n",
      "[[18 47 81 28 59 75 68  9 48 49]\n",
      " [63 86 87 46 38  7 41 47 17 78]\n",
      " [ 2 43 33 89 43 13 49 34 49 67]\n",
      " [ 7 31 42  0 88 21 62 61 86 53]\n",
      " [17 48 72 48 41 29  2 83 67 14]\n",
      " [ 5 24  3 64 21 59 45 78 57 77]\n",
      " [ 3 60 41  4 15 22 81 46 23 13]\n",
      " [34  8 89 72 42  9 26 54 13 43]\n",
      " [43 50  1 49 33 55 16 52 20  3]\n",
      " [84 17 37 36 49  6 17 48 77 86]]\n",
      "[[239   8  35 240   2  11   0  30 242 224]\n",
      " [249 222 241 224  46  72  50 224  24   2]\n",
      " [109 250  73 207  32  48  59  11  14 253]\n",
      " [ 51  69  18  26 190  21 243 214 223 248]\n",
      " [ 66 235  14 216  56   8  51 251 252 242]\n",
      " [ 17  43  87   0  64 219 249  40 234  31]\n",
      " [ 99 246 239 253  54  75 240   3  69  56]\n",
      " [ 70  46 178   2 235 108 250 234 253   9]\n",
      " [ 67  11  65 244  66 202  11  59  24  92]\n",
      " [238 240  73  47  29  60 253 208 208   9]]\n"
     ]
    }
   ],
   "source": [
    "A = np.random.randint(0,high=120,size=(10,10),dtype=np.uint8)\n",
    "B = np.random.randint(0,high=90,size=(10,10),dtype=np.uint8)\n",
    "C = A-B\n",
    "print(A)\n",
    "print(B)\n",
    "print(C)"
   ]
  },
  {
   "cell_type": "code",
   "execution_count": 24,
   "metadata": {},
   "outputs": [
    {
     "name": "stdout",
     "output_type": "stream",
     "text": [
      "[[  1  55 116  12  61  86  68  39  34  17]\n",
      " [ 56  52  72  14  84  79  91  15  41  80]\n",
      " [111  37 106  40  75  61 108  45  63  64]\n",
      " [ 58 100  60  26  22  42  49  19  53  45]\n",
      " [ 83  27  86   8  97  37  53  78  63   0]\n",
      " [ 22  67  90  64  85  22  38 118  35 108]\n",
      " [102  50  24   1  69  97  65  49  92  69]\n",
      " [104  54  11  74  21 117  20  32  10  52]\n",
      " [110  61  66  37  99   1  27 111  44  95]\n",
      " [ 66   1 110  83  78  66  14   0  29  95]]\n",
      "[[18 47 81 28 59 75 68  9 48 49]\n",
      " [63 86 87 46 38  7 41 47 17 78]\n",
      " [ 2 43 33 89 43 13 49 34 49 67]\n",
      " [ 7 31 42  0 88 21 62 61 86 53]\n",
      " [17 48 72 48 41 29  2 83 67 14]\n",
      " [ 5 24  3 64 21 59 45 78 57 77]\n",
      " [ 3 60 41  4 15 22 81 46 23 13]\n",
      " [34  8 89 72 42  9 26 54 13 43]\n",
      " [43 50  1 49 33 55 16 52 20  3]\n",
      " [84 17 37 36 49  6 17 48 77 86]]\n",
      "[[-17   8  35 -16   2  11   0  30 -14 -32]\n",
      " [ -7 -34 -15 -32  46  72  50 -32  24   2]\n",
      " [109  -6  73 -49  32  48  59  11  14  -3]\n",
      " [ 51  69  18  26 -66  21 -13 -42 -33  -8]\n",
      " [ 66 -21  14 -40  56   8  51  -5  -4 -14]\n",
      " [ 17  43  87   0  64 -37  -7  40 -22  31]\n",
      " [ 99 -10 -17  -3  54  75 -16   3  69  56]\n",
      " [ 70  46 -78   2 -21 108  -6 -22  -3   9]\n",
      " [ 67  11  65 -12  66 -54  11  59  24  92]\n",
      " [-18 -16  73  47  29  60  -3 -48 -48   9]]\n"
     ]
    }
   ],
   "source": [
    "A16 = A.astype(np.int16)\n",
    "B16 = B.astype(np.int16)\n",
    "C16 = A16-B16\n",
    "print(A16)\n",
    "print(B16)\n",
    "print(C16)"
   ]
  },
  {
   "cell_type": "markdown",
   "metadata": {},
   "source": [
    "### Excercise 2:\n",
    "\n",
    "Make a three-dimensional array c with the size (3,10,10) in which plane 1 and two are equal to A and B respectively. A and B are 10x10 filled with random numbers between 0..100 and 0..255 respectively."
   ]
  },
  {
   "cell_type": "markdown",
   "metadata": {},
   "source": [
    "### Solution 2:"
   ]
  },
  {
   "cell_type": "code",
   "execution_count": null,
   "metadata": {},
   "outputs": [],
   "source": []
  },
  {
   "cell_type": "markdown",
   "metadata": {},
   "source": [
    "#### Further reading: \n",
    "\n",
    "Please find more details in:\n",
    "https://www.machinelearningplus.com/python/numpy-tutorial-part1-array-python-examples/"
   ]
  },
  {
   "cell_type": "markdown",
   "metadata": {
    "collapsed": true
   },
   "source": [
    "## Other usefull stuff:"
   ]
  },
  {
   "cell_type": "markdown",
   "metadata": {},
   "source": [
    "#### Usefull guide to conda libary management\n",
    "\n",
    "https://conda.io/docs/user-guide/tasks/manage-pkgs.html\n",
    "    \n",
    "#### Use C code\n",
    "\n",
    "https://codeburst.io/jupyter-notebook-tricks-for-data-science-that-enhance-your-efficiency-95f98d3adee4"
   ]
  },
  {
   "cell_type": "markdown",
   "metadata": {},
   "source": [
    "### Magic\n",
    "\n",
    "Docs accessible with %lsmagic\n",
    "    \n",
    "    %%bash - run cell as bash\n",
    "    %%timeit - time cell\n",
    "    ? f - get docstring\n",
    "    ?? f - get source\n",
    "    %run nb.ipynb - line magic, runs notebook\n",
    "    %pdb - run debbuger on cell evaluation\n",
    "    %env ENV_VAR=3 - set enviornment variable in kernel"
   ]
  },
  {
   "cell_type": "code",
   "execution_count": null,
   "metadata": {},
   "outputs": [],
   "source": [
    "%lsmagic"
   ]
  },
  {
   "cell_type": "markdown",
   "metadata": {},
   "source": [
    "## Cheat sheet markdown\n",
    "\n",
    "from:\n",
    "\n",
    "https://github.com/adam-p/markdown-here/wiki/Markdown-Cheatsheet\n",
    "\n",
    "\n",
    "### Headers\n",
    "\n",
    "# H1\n",
    "## H2\n",
    "### H3\n",
    "#### H4\n",
    "##### H5\n",
    "###### H6\n",
    "\n",
    "Emphasis, aka italics, with *asterisks* or _underscores_.\n",
    "\n",
    "Strong emphasis, aka bold, with **asterisks** or __underscores__.\n",
    "\n",
    "Combined emphasis with **asterisks and _underscores_**.\n",
    "\n",
    "Strikethrough uses two tildes. ~~Scratch this.~~\n",
    "\n",
    "1. First ordered list item\n",
    "2. Another item\n",
    "⋅⋅* Unordered sub-list. \n",
    "1. Actual numbers don't matter, just that it's a number\n",
    "⋅⋅1. Ordered sub-list\n",
    "4. And another item.\n",
    "\n",
    "* Unordered list can use asterisks\n",
    "- Or minuses\n",
    "+ Or pluses\n",
    "\n",
    "\n",
    "Colons can be used to align columns.\n",
    "\n",
    "| Header    | Another header   |\n",
    "|:---------:|:----------------:|\n",
    "| field 1   | center align     |\n",
    "| field 2   | something else   |\n",
    "\n",
    "| Header   | Another header  |\n",
    "|:---------|:----------------|\n",
    "| field 1  |left allign      |\n",
    "| field 2  |something else   |\n",
    "\n",
    "There must be at least 3 dashes separating each header cell.\n",
    "The outer pipes (|) are optional, and you don't need to make the \n",
    "raw Markdown line up prettily. You can also use inline Markdown.\n",
    "\n",
    "Markdown | Less | Pretty\n",
    "--- | --- | ---\n",
    "*Still* | `renders` | **nicely**\n",
    "1 | 2 | 3\n",
    "\n",
    "\n",
    "Three or more...\n",
    "\n",
    "---\n",
    "\n",
    "Hyphens\n",
    "\n",
    "### Line Break:\n",
    "\n",
    "Hello  (<-- two spaces)\n",
    "World\n",
    "\n",
    "Hello  \n",
    "World"
   ]
  }
 ],
 "metadata": {
  "kernelspec": {
   "display_name": "Python 3 (ipykernel)",
   "language": "python",
   "name": "python3"
  },
  "language_info": {
   "codemirror_mode": {
    "name": "ipython",
    "version": 3
   },
   "file_extension": ".py",
   "mimetype": "text/x-python",
   "name": "python",
   "nbconvert_exporter": "python",
   "pygments_lexer": "ipython3",
   "version": "3.9.15"
  }
 },
 "nbformat": 4,
 "nbformat_minor": 2
}
