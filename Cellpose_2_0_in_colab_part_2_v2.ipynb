{
  "nbformat": 4,
  "nbformat_minor": 0,
  "metadata": {
    "colab": {
      "provenance": [],
      "authorship_tag": "ABX9TyO1OGn8vG+MTkwCpoNR4wqz",
      "include_colab_link": true
    },
    "kernelspec": {
      "name": "python3",
      "display_name": "Python 3"
    },
    "language_info": {
      "name": "python"
    },
    "accelerator": "GPU",
    "gpuClass": "standard"
  },
  "cells": [
    {
      "cell_type": "markdown",
      "metadata": {
        "id": "view-in-github",
        "colab_type": "text"
      },
      "source": [
        "<a href=\"https://colab.research.google.com/github/Koushouu/Bioimage-Analysis-Workshop-Taipei/blob/main/Cellpose_2_0_in_colab_part_2_v2.ipynb\" target=\"_parent\"><img src=\"https://colab.research.google.com/assets/colab-badge.svg\" alt=\"Open In Colab\"/></a>"
      ]
    },
    {
      "cell_type": "markdown",
      "source": [
        "# Running cellpose 2.0 in colab - part 2\n",
        "\n",
        "In this notebook we will train a custom model specifically for our images\n",
        "\n",
        "If your notebook is in Chinese please go to \"説明\" tab above and select \"查看英文版本\"\n",
        "\n",
        "There are three sections in this notebook:\n",
        "\n",
        "* Section 1 - Setup: we will install cellpose 2.0 and openCV to our runtime, and we will initialize the colab cloud GPU. Just like what we did for part 1 notebook.\n",
        "\n",
        "* Section 2 - Train model on manual annotations: We will train a model based on our manually annotated images\n",
        "\n",
        "* Section 3 - Validation: we will validate the efficiency of the model compare to our manual annotations.\n",
        "\n",
        "The content of this notebook is mostly modified from: https://colab.research.google.com/github/MouseLand/cellpose/blob/main/notebooks/run_cellpose_2.ipynb"
      ],
      "metadata": {
        "id": "-6XAIiWLhbjy"
      }
    },
    {
      "cell_type": "markdown",
      "source": [
        "# Setup\n",
        "Same as we did in part 1. We will first install cellpose 2.0, check the GPU is working, and mount google drive to get your models and images."
      ],
      "metadata": {
        "id": "wghg9wmalMga"
      }
    },
    {
      "cell_type": "code",
      "source": [
        "# Install Cellpose and OpenCV\n",
        "!pip install \"opencv-python-headless<4.3\"\n",
        "!pip install cellpose\n",
        "\n",
        "# Check GPU status\n",
        "!nvcc --version\n",
        "!nvidia-smi\n",
        "\n",
        "import os, shutil\n",
        "import numpy as np\n",
        "import matplotlib.pyplot as plt\n",
        "from cellpose import core, utils, io, models, metrics\n",
        "from glob import glob\n",
        "\n",
        "use_GPU = core.use_gpu()\n",
        "yn = ['NO', 'YES']\n",
        "print(f'>>> GPU activated? {yn[use_GPU]}')\n",
        "\n",
        "print(\"Connect Google Drive to Colab\")\n",
        "from google.colab import drive\n",
        "drive.mount('/content/gdrive')"
      ],
      "metadata": {
        "id": "BJSzafBZlL3o"
      },
      "execution_count": null,
      "outputs": []
    },
    {
      "cell_type": "markdown",
      "source": [
        "# Train model on manual annotations\n",
        "\n",
        "Fill out the form below with the paths to your data and the parameters to start training."
      ],
      "metadata": {
        "id": "zd8v-RGhhVaC"
      }
    },
    {
      "cell_type": "markdown",
      "source": [
        "## Training parameters\n",
        "\n",
        "<font size = 4> **Paths for training, predictions and results**\n",
        "\n",
        "\n",
        "<font size = 4>**`train_dir:`, `test_dir`:** These are the paths to your folders train_dir (with images and masks of training images) and test_dir (with images and masks of test images). You can leave the test_dir blank, but it's recommended to have some test images to check the model's performance. To find the paths of the folders containing the respective datasets, go to your Files on the left of the notebook, navigate to the folder containing your files and copy the path by right-clicking on the folder, **Copy path** and pasting it into the right box below.\n",
        "\n",
        "<font size = 4>**`initial_model`:** Choose a model from the cellpose [model zoo](https://cellpose.readthedocs.io/en/latest/models.html#model-zoo) to start from.\n",
        "\n",
        "<font size = 4>**`model_name`**: Enter the path where your model will be saved once trained (for instance your result folder).\n",
        "\n",
        "<font size = 4>**Training parameters**\n",
        "\n",
        "<font size = 4>**`number_of_epochs`:** Input how many epochs (rounds) the network will be trained. At least 100 epochs are recommended, but sometimes 250 epochs are necessary, particularly from scratch. **Default value: 100**"
      ],
      "metadata": {
        "id": "bMUd6TtsmAlW"
      }
    },
    {
      "cell_type": "code",
      "execution_count": null,
      "metadata": {
        "colab": {
          "base_uri": "https://localhost:8080/"
        },
        "id": "nWg04JSqhLFZ",
        "outputId": "4efcb072-be6c-470b-81ca-045d2f3ffb01",
        "cellView": "form"
      },
      "outputs": [
        {
          "output_type": "stream",
          "name": "stdout",
          "text": [
            "Default advanced parameters enabled\n"
          ]
        }
      ],
      "source": [
        "#@markdown ###Path to images and masks:\n",
        "\n",
        "train_dir = \"/content/gdrive/MyDrive/Colab Notebooks/train\" #@param {type:\"string\"}\n",
        "test_dir = \"/content/gdrive/MyDrive/Colab Notebooks/test\" #@param {type:\"string\"}\n",
        "#Define where the patch file will be saved\n",
        "base = \"/content\"\n",
        "\n",
        "# model name and path\n",
        "#@markdown ###Name of the pretrained model to start from and new model name:\n",
        "from cellpose import models\n",
        "initial_model = \"cyto2\" #@param ['cyto','nuclei','tissuenet','livecell','cyto2','CP','CPx','TN1','TN2','TN3','LC1','LC2','LC3','LC4','scratch']\n",
        "model_name = \"demo_cyto2\" #@param {type:\"string\"}\n",
        "\n",
        "# other parameters for training.\n",
        "#@markdown ###Training Parameters:\n",
        "#@markdown Number of epochs:\n",
        "n_epochs =  100#@param {type:\"number\"}\n",
        "\n",
        "Channel_to_use_for_training = \"Grayscale\" #@param [\"Grayscale\", \"Blue\", \"Green\", \"Red\"]\n",
        "\n",
        "# @markdown ###If you have a secondary channel that can be used for training, for instance nuclei, choose it here:\n",
        "\n",
        "Second_training_channel= \"None\" #@param [\"None\", \"Blue\", \"Green\", \"Red\"]\n",
        "\n",
        "\n",
        "#@markdown ###Advanced Parameters\n",
        "\n",
        "Use_Default_Advanced_Parameters = True #@param {type:\"boolean\"}\n",
        "#@markdown ###If not, please input:\n",
        "learning_rate = 0.1 #@param {type:\"number\"}\n",
        "weight_decay = 0.0001 #@param {type:\"number\"}\n",
        "\n",
        "if (Use_Default_Advanced_Parameters): \n",
        "  print(\"Default advanced parameters enabled\")\n",
        "  learning_rate = 0.1 \n",
        "  weight_decay = 0.0001\n",
        "  \n",
        "#here we check that no model with the same name already exist, if so delete\n",
        "model_path = train_dir + 'models/'\n",
        "if os.path.exists(model_path+'/'+model_name):\n",
        "  print(\"!! WARNING: \"+model_name+\" already exists and will be deleted in the following cell !!\")\n",
        "  \n",
        "if len(test_dir) == 0:\n",
        "  test_dir = None\n",
        "\n",
        "# Here we match the channel to number\n",
        "if Channel_to_use_for_training == \"Grayscale\":\n",
        "  chan = 0\n",
        "elif Channel_to_use_for_training == \"Blue\":\n",
        "  chan = 3\n",
        "elif Channel_to_use_for_training == \"Green\":\n",
        "  chan = 2\n",
        "elif Channel_to_use_for_training == \"Red\":\n",
        "  chan = 1\n",
        "\n",
        "\n",
        "if Second_training_channel == \"Blue\":\n",
        "  chan2 = 3\n",
        "elif Second_training_channel == \"Green\":\n",
        "  chan2 = 2\n",
        "elif Second_training_channel == \"Red\":\n",
        "  chan2 = 1\n",
        "elif Second_training_channel == \"None\":\n",
        "  chan2 = 0\n",
        "\n",
        "if initial_model=='scratch':\n",
        "  initial_model = 'None'"
      ]
    },
    {
      "cell_type": "markdown",
      "source": [
        "## Train new model\n",
        "\n",
        "Using settings from form above, train model in notebook."
      ],
      "metadata": {
        "id": "DeYwGybhmshO"
      }
    },
    {
      "cell_type": "code",
      "source": [
        "# start logger (to see training across epochs)\n",
        "logger = io.logger_setup()\n",
        "\n",
        "# DEFINE CELLPOSE MODEL (without size model)\n",
        "model = models.CellposeModel(gpu=use_GPU, model_type=initial_model)\n",
        "\n",
        "# set channels\n",
        "channels = [chan, chan2]\n",
        "\n",
        "# get files\n",
        "output = io.load_train_test_data(train_dir, test_dir, mask_filter='_seg.npy')\n",
        "train_data, train_labels, _, test_data, test_labels, _ = output\n",
        "\n",
        "new_model_path = model.train(train_data, train_labels, \n",
        "                              test_data=test_data,\n",
        "                              test_labels=test_labels,\n",
        "                              channels=channels, \n",
        "                              save_path=train_dir, \n",
        "                              n_epochs=n_epochs,\n",
        "                              learning_rate=learning_rate, \n",
        "                              weight_decay=weight_decay, \n",
        "                              nimg_per_epoch=8,\n",
        "                              model_name=model_name)\n",
        "\n",
        "# diameter of labels in training images\n",
        "diam_labels = model.diam_labels.copy()"
      ],
      "metadata": {
        "id": "5Fcoo4zQmwvv"
      },
      "execution_count": null,
      "outputs": []
    },
    {
      "cell_type": "markdown",
      "source": [
        "# Validation\n",
        "\n",
        "Evaluate on test data to check performance"
      ],
      "metadata": {
        "id": "RZQ4jjCqm5Aw"
      }
    },
    {
      "cell_type": "code",
      "source": [
        "# get files (during training, test_data is transformed so we will load it again)\n",
        "output = io.load_train_test_data(test_dir, mask_filter='_seg.npy')\n",
        "test_data, test_labels = output[:2]\n",
        "\n",
        "# run model on test images\n",
        "masks = model.eval(test_data, \n",
        "                   channels=[chan, chan2],\n",
        "                   diameter=diam_labels)[0]\n",
        "\n",
        "# check performance using ground truth labels\n",
        "ap = metrics.average_precision(test_labels, masks)[0]\n",
        "print('')\n",
        "print(f'>>> average precision at iou threshold 0.5 = {ap[:,0].mean():.3f}')\n"
      ],
      "metadata": {
        "id": "LcZBOoImnGex"
      },
      "execution_count": null,
      "outputs": []
    },
    {
      "cell_type": "markdown",
      "source": [
        "Plot results"
      ],
      "metadata": {
        "id": "iaO5qVsDnN0l"
      }
    },
    {
      "cell_type": "code",
      "source": [
        "from natsort import natsorted\n",
        "from os.path import join\n",
        "\n",
        "plt.figure(figsize=(15,15))\n",
        "for k,im in enumerate(test_data):\n",
        "    # Show the original test image\n",
        "    img = im.copy()\n",
        "    plt.subplot(3,len(test_data), k+1)\n",
        "    plt.imshow(test_data[k])\n",
        "    plt.axis('off')\n",
        "    if k==0:\n",
        "        plt.title('image')\n",
        "    # Show the segmented result\n",
        "    plt.subplot(3,len(test_data), len(test_data) + k+1)\n",
        "    plt.imshow(test_data[k], cmap = 'gray')\n",
        "    plt.imshow(np.ma.array(masks[k], mask=masks[k]==0), cmap = 'prism', alpha = 0.4)\n",
        "    plt.axis('off')\n",
        "    if k==0:\n",
        "        plt.title('predicted labels')\n",
        "    # Show ground truth\n",
        "    plt.subplot(3,len(test_data), 2*len(test_data) + k+1)\n",
        "    plt.imshow(test_data[k], cmap = 'gray')\n",
        "    plt.imshow(np.ma.array(test_labels[k], mask=test_labels[k]==0), cmap = 'prism', alpha = 0.4)\n",
        "    plt.axis('off')\n",
        "    if k==0:\n",
        "        plt.title('true labels')\n",
        "plt.tight_layout()"
      ],
      "metadata": {
        "id": "RLFf95usnILD"
      },
      "execution_count": null,
      "outputs": []
    }
  ]
}